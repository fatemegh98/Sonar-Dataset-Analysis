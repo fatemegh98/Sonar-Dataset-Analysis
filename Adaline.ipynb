{
 "cells": [
  {
   "cell_type": "code",
   "execution_count": 269,
   "metadata": {},
   "outputs": [],
   "source": [
    "import numpy as np \n",
    "import pandas as pd\n",
    "import matplotlib.pyplot as plt"
   ]
  },
  {
   "cell_type": "code",
   "execution_count": 270,
   "metadata": {},
   "outputs": [],
   "source": [
    "data = pd.read_csv('dataset.csv',header = None)\n",
    "data_classes = ['R','M']\n",
    "d = {'R':-1,'M':+1}\n",
    "data[60] = data[60].map(d, na_action='ignore')\n",
    "data = data.sample(frac=1)"
   ]
  },
  {
   "cell_type": "code",
   "execution_count": 271,
   "metadata": {},
   "outputs": [],
   "source": [
    "train, validate, test = np.split(data, [int(.7*len(data)), int(.8*len(data))])"
   ]
  },
  {
   "cell_type": "code",
   "execution_count": 272,
   "metadata": {},
   "outputs": [],
   "source": [
    "class AdalineGD(object):\n",
    "    def __init__(self, eta = 0.01, n_iter = 50):\n",
    "        self.eta = eta\n",
    "        self.n_iter = n_iter\n",
    "\n",
    "    def fit(self,X, y,X_val,y_val):\n",
    "        self.w_ = np.zeros(1 + X.shape[1])\n",
    "        self.cost_ = []\n",
    "        self.valcost_ = [] \n",
    "        for i in range(self.n_iter):\n",
    "            output = self.net_input(X)\n",
    "            val_output = self.net_input(X_val)\n",
    "            errors = (y - output)\n",
    "            val_errors = (y_val - val_output)\n",
    "            self.w_[1:] += self.eta * X.T.dot(errors)\n",
    "            self.w_[0] += self.eta * errors.sum()\n",
    "            cost = (errors ** 2).sum() / (2.0*X.shape[0])\n",
    "            val_cost = (val_errors ** 2).sum() / (2.0*X_val.shape[0])\n",
    "            self.cost_.append(cost)\n",
    "            self.valcost_.append(val_cost)\n",
    "        return self.cost_,self.valcost_\n",
    "\n",
    "    def net_input(self, X):\n",
    "        \"\"\" Calculate net input \"\"\"\n",
    "        return np.dot(X, self.w_[1:]) + self.w_[0]\n",
    "\n",
    "    def activation(self, X):\n",
    "        \"\"\" Compute linear activation \"\"\"\n",
    "        return self.net_input(X)\n",
    "    \n",
    "    def predict(self, X):\n",
    "        \"\"\" Return class label after unit step \"\"\"\n",
    "        return np.where(self.activation(X) >= 0.0, +1,-1)"
   ]
  },
  {
   "cell_type": "code",
   "execution_count": 273,
   "metadata": {},
   "outputs": [],
   "source": [
    "X_train = train.drop(60, axis=1).to_numpy()\n",
    "y_train = train[60].to_numpy()\n",
    "X_validate = validate.drop(60, axis=1).to_numpy()\n",
    "y_validate = validate[60].to_numpy()\n",
    "model1 = AdalineGD(n_iter =400 , eta = 0.001)\n",
    "train_cost,validation_cost = model1.fit(X_train, y_train,X_validate,y_validate)"
   ]
  },
  {
   "cell_type": "code",
   "execution_count": 274,
   "metadata": {},
   "outputs": [
    {
     "data": {
      "text/plain": [
       "Text(0, 0.5, 'MSE')"
      ]
     },
     "execution_count": 274,
     "metadata": {},
     "output_type": "execute_result"
    },
    {
     "data": {
      "image/png": "[encoded data removed]",
      "text/plain": [
       "<Figure size 864x576 with 1 Axes>"
      ]
     },
     "metadata": {
      "needs_background": "light"
     },
     "output_type": "display_data"
    }
   ],
   "source": [
    "fig = plt.figure()\n",
    "fig.set_size_inches(12,8)\n",
    "ax = fig.add_subplot(1,1,1)\n",
    "ax.plot(train_cost,label='cost on train')\n",
    "ax.plot(validation_cost,label='cost on validation')\n",
    "ax.legend()\n",
    "ax.set_xlabel('iteration')\n",
    "ax.set_ylabel('MSE')"
   ]
  },
  {
   "cell_type": "code",
   "execution_count": 275,
   "metadata": {},
   "outputs": [
    {
     "data": {
      "text/plain": [
       "0.7857142857142857"
      ]
     },
     "execution_count": 275,
     "metadata": {},
     "output_type": "execute_result"
    }
   ],
   "source": [
    "X_test = test.drop(60, axis=1).to_numpy()\n",
    "y_test = test[60].to_numpy()\n",
    "\n",
    "y_pred =model1.predict(X_test)\n",
    "\n",
    "def accuracy(y_true, y_pred):\n",
    "    accuracy = np.sum(y_true == y_pred) / len(y_true)\n",
    "    return accuracy\n",
    "\n",
    "accuracy(y_test,y_pred)"
   ]
  },
  {
   "cell_type": "code",
   "execution_count": 276,
   "metadata": {},
   "outputs": [
    {
     "data": {
      "text/html": [
       "<div>\n",
       "<style scoped>\n",
       "    .dataframe tbody tr th:only-of-type {\n",
       "        vertical-align: middle;\n",
       "    }\n",
       "\n",
       "    .dataframe tbody tr th {\n",
       "        vertical-align: top;\n",
       "    }\n",
       "\n",
       "    .dataframe thead th {\n",
       "        text-align: right;\n",
       "    }\n",
       "</style>\n",
       "<table border=\"1\" class=\"dataframe\">\n",
       "  <thead>\n",
       "    <tr style=\"text-align: right;\">\n",
       "      <th>predict</th>\n",
       "      <th>-1</th>\n",
       "      <th>1</th>\n",
       "    </tr>\n",
       "    <tr>\n",
       "      <th>actual</th>\n",
       "      <th></th>\n",
       "      <th></th>\n",
       "    </tr>\n",
       "  </thead>\n",
       "  <tbody>\n",
       "    <tr>\n",
       "      <th>-1</th>\n",
       "      <td>12</td>\n",
       "      <td>7</td>\n",
       "    </tr>\n",
       "    <tr>\n",
       "      <th>1</th>\n",
       "      <td>2</td>\n",
       "      <td>21</td>\n",
       "    </tr>\n",
       "  </tbody>\n",
       "</table>\n",
       "</div>"
      ],
      "text/plain": [
       "predict  -1   1\n",
       "actual         \n",
       "-1       12   7\n",
       " 1        2  21"
      ]
     },
     "execution_count": 276,
     "metadata": {},
     "output_type": "execute_result"
    }
   ],
   "source": [
    "def confusion_df(grand_truth, predicts):\n",
    "    df = pd.DataFrame({'predict': predicts, 'actual': grand_truth, 'cnt': 1})\n",
    "    return pd.crosstab(df.actual, df.predict)\n",
    "confusion_df(y_test,y_pred)\n"
   ]
  },
  {
   "cell_type": "code",
   "execution_count": 266,
   "metadata": {},
   "outputs": [
    {
     "name": "stdout",
     "output_type": "stream",
     "text": [
      "0.7555555555555556\n"
     ]
    }
   ],
   "source": [
    "acc_list = []\n",
    "for i in range(30):\n",
    "    data = pd.read_csv('dataset.csv',header = None)\n",
    "    data_classes = ['R','M']\n",
    "    d = {'R':-1,'M':1}\n",
    "    data[60] = data[60].map(d, na_action='ignore')\n",
    "    data = data.sample(frac=1)\n",
    "    train, validate, test = np.split(data, [int(.7*len(data)), int(.8*len(data))])\n",
    "    X_train = train.drop(60, axis=1).to_numpy()\n",
    "    y_train = train[60].to_numpy()\n",
    "    X_validate = validate.drop(60, axis=1).to_numpy()\n",
    "    y_validate = validate[60].to_numpy()\n",
    "    X_test = test.drop(60, axis=1).to_numpy()\n",
    "    y_test = test[60].to_numpy()\n",
    "    model1 = AdalineGD(n_iter =150 , eta = 0.001)\n",
    "    train_cost,validation_cost = model1.fit(X_train, y_train,X_validate,y_validate)\n",
    "    y_pred = model1.predict(X_test)\n",
    "    acc_list.append(accuracy(y_test,y_pred))\n",
    "    i+=1\n",
    "print(np.mean(acc_list))"
   ]
  },
  {
   "cell_type": "code",
   "execution_count": null,
   "metadata": {},
   "outputs": [],
   "source": []
  }
 ],
 "metadata": {
  "kernelspec": {
   "display_name": "Python 3",
   "language": "python",
   "name": "python3"
  },
  "language_info": {
   "codemirror_mode": {
    "name": "ipython",
    "version": 3
   },
   "file_extension": ".py",
   "mimetype": "text/x-python",
   "name": "python",
   "nbconvert_exporter": "python",
   "pygments_lexer": "ipython3",
   "version": "3.7.3"
  }
 },
 "nbformat": 4,
 "nbformat_minor": 2
}
