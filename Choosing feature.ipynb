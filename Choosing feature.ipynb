{
 "cells": [
  {
   "cell_type": "markdown",
   "metadata": {},
   "source": [
    "# Question1"
   ]
  },
  {
   "cell_type": "code",
   "execution_count": 34,
   "metadata": {},
   "outputs": [],
   "source": [
    "import numpy as np\n",
    "import pandas as pd\n",
    "import matplotlib.pyplot as plt\n",
    "from sklearn.linear_model import LogisticRegression\n",
    "from sklearn.metrics import confusion_matrix"
   ]
  },
  {
   "cell_type": "code",
   "execution_count": 35,
   "metadata": {
    "scrolled": true
   },
   "outputs": [],
   "source": [
    "data = pd.read_csv('dataset.csv',header = None)\n",
    "data_classes = ['R','M']\n",
    "d = dict(zip(data_classes, range(0,2)))\n",
    "data[60] = data[60].map(d, na_action='ignore')\n",
    "data = data.sample(frac=1)\n",
    "corr = data.corr()"
   ]
  },
  {
   "cell_type": "code",
   "execution_count": 36,
   "metadata": {},
   "outputs": [],
   "source": [
    "#drop one of two features with corr coef bigger than 0.9\n",
    "columns = np.full((corr.shape[0],), True, dtype=bool)\n",
    "for i in range(corr.shape[0]):\n",
    "    for j in range(i+1, corr.shape[0]):\n",
    "        if corr.iloc[i,j] >= 0.9:\n",
    "            if columns[j]:\n",
    "                columns[j] = False\n",
    "selected_columns = data.columns[columns]\n"
   ]
  },
  {
   "cell_type": "code",
   "execution_count": 37,
   "metadata": {},
   "outputs": [],
   "source": [
    "data1 = data[selected_columns]\n",
    "train, validate, test = np.split(data1, [int(.7*len(data1)), int(.8*len(data1))])"
   ]
  },
  {
   "cell_type": "code",
   "execution_count": 38,
   "metadata": {},
   "outputs": [
    {
     "name": "stdout",
     "output_type": "stream",
     "text": [
      "0.9047619047619048\n"
     ]
    },
    {
     "name": "stderr",
     "output_type": "stream",
     "text": [
      "C:\\Users\\Lenovo\\Anaconda3\\lib\\site-packages\\sklearn\\linear_model\\logistic.py:432: FutureWarning: Default solver will be changed to 'lbfgs' in 0.22. Specify a solver to silence this warning.\n",
      "  FutureWarning)\n"
     ]
    }
   ],
   "source": [
    "X_train = train.drop(60, axis=1).to_numpy()\n",
    "y_train = train[60].to_numpy()\n",
    "X_validate = validate.drop(60, axis=1).to_numpy()\n",
    "y_validate = validate[60].to_numpy()\n",
    "\n",
    "clf = LogisticRegression(random_state=0).fit(X_train, y_train)\n",
    "prediction = clf.predict(X_validate)\n",
    "cm = confusion_matrix(y_validate, prediction)\n",
    "summ = 0\n",
    "for i in range(cm.shape[0]):\n",
    "    summ += cm[i][i]\n",
    "accuracy = summ/X_validate.shape[0]\n",
    "print(accuracy)"
   ]
  },
  {
   "cell_type": "code",
   "execution_count": 39,
   "metadata": {
    "scrolled": true
   },
   "outputs": [
    {
     "name": "stdout",
     "output_type": "stream",
     "text": [
      "0.9047619047619048\n"
     ]
    },
    {
     "name": "stderr",
     "output_type": "stream",
     "text": [
      "C:\\Users\\Lenovo\\Anaconda3\\lib\\site-packages\\sklearn\\linear_model\\logistic.py:432: FutureWarning: Default solver will be changed to 'lbfgs' in 0.22. Specify a solver to silence this warning.\n",
      "  FutureWarning)\n"
     ]
    }
   ],
   "source": [
    "columns = np.full((corr.shape[0],), True, dtype=bool)\n",
    "for i in range(corr.shape[0]):\n",
    "    for j in range(i+1, corr.shape[0]):\n",
    "        if corr.iloc[i,j] >= 1:\n",
    "            if columns[j]:\n",
    "                columns[j] = False\n",
    "selected_columns = data.columns[columns]\n",
    "data2 = data[selected_columns]\n",
    "train, validate, test = np.split(data2, [int(.7*len(data2)), int(.8*len(data2))])\n",
    "X_train = train.drop(60, axis=1).to_numpy()\n",
    "y_train = train[60].to_numpy()\n",
    "X_validate = validate.drop(60, axis=1).to_numpy()\n",
    "y_validate = validate[60].to_numpy()\n",
    "\n",
    "clf = LogisticRegression(random_state=0).fit(X_train, y_train)\n",
    "prediction = clf.predict(X_validate)\n",
    "cm = confusion_matrix(y_validate, prediction)\n",
    "summ = 0\n",
    "for i in range(cm.shape[0]):\n",
    "    summ += cm[i][i]\n",
    "accuracy = summ/X_validate.shape[0]\n",
    "print(accuracy)"
   ]
  },
  {
   "cell_type": "code",
   "execution_count": 40,
   "metadata": {},
   "outputs": [
    {
     "name": "stdout",
     "output_type": "stream",
     "text": [
      "0.8095238095238095\n"
     ]
    },
    {
     "name": "stderr",
     "output_type": "stream",
     "text": [
      "C:\\Users\\Lenovo\\Anaconda3\\lib\\site-packages\\sklearn\\linear_model\\logistic.py:432: FutureWarning: Default solver will be changed to 'lbfgs' in 0.22. Specify a solver to silence this warning.\n",
      "  FutureWarning)\n"
     ]
    }
   ],
   "source": [
    "columns = np.full((corr.shape[0],), True, dtype=bool)\n",
    "for i in range(corr.shape[0]):\n",
    "    for j in range(i+1, corr.shape[0]):\n",
    "        if corr.iloc[i,j] >= 0.88:\n",
    "            if columns[j]:\n",
    "                columns[j] = False\n",
    "selected_columns = data.columns[columns]\n",
    "data3 = data[selected_columns]\n",
    "train, validate, test = np.split(data3, [int(.7*len(data3)), int(.8*len(data3))])\n",
    "X_train = train.drop(60, axis=1).to_numpy()\n",
    "y_train = train[60].to_numpy()\n",
    "X_validate = validate.drop(60, axis=1).to_numpy()\n",
    "y_validate = validate[60].to_numpy()\n",
    "\n",
    "clf = LogisticRegression(random_state=0).fit(X_train, y_train)\n",
    "prediction = clf.predict(X_validate)\n",
    "cm = confusion_matrix(y_validate, prediction)\n",
    "summ = 0\n",
    "for i in range(cm.shape[0]):\n",
    "    summ += cm[i][i]\n",
    "accuracy = summ/X_validate.shape[0]\n",
    "print(accuracy)"
   ]
  },
  {
   "cell_type": "markdown",
   "metadata": {},
   "source": [
    "# train dataset part"
   ]
  },
  {
   "cell_type": "code",
   "execution_count": 100,
   "metadata": {},
   "outputs": [
    {
     "data": {
      "image/png": "[encoded data removed]",
      "text/plain": [
       "<Figure size 432x288 with 1 Axes>"
      ]
     },
     "metadata": {
      "needs_background": "light"
     },
     "output_type": "display_data"
    },
    {
     "data": {
      "image/png": "[encoded data removed]",
      "text/plain": [
       "<Figure size 432x288 with 1 Axes>"
      ]
     },
     "metadata": {
      "needs_background": "light"
     },
     "output_type": "display_data"
    }
   ],
   "source": [
    "train_corr = np.abs(train.corr())\n",
    "X_train = train.drop(60, axis=1).to_numpy()\n",
    "y_train = train[60].to_numpy()\n",
    "\n",
    "fig = plt.figure()\n",
    "ax = fig.add_axes([0,0,1,1])\n",
    "ax.bar(train.columns.to_list()[:-1],train_corr[60].to_list()[:-1])\n",
    "plt.xlabel(\"features name\")\n",
    "plt.ylabel(\"correlation coefficinet value\")\n",
    "plt.title(\"correlation between features and target for train dataset\")\n",
    "plt.show()\n",
    "\n",
    "plt.hist(train_corr[60].to_list()[:-1], bins = 8)\n",
    "plt.xlabel(\"features bins\")\n",
    "plt.ylabel(\"frequency\")\n",
    "plt.title(\"histogram of correlation between features and target for train dataset\")\n",
    "plt.show()"
   ]
  },
  {
   "cell_type": "markdown",
   "metadata": {},
   "source": [
    "# validation dataset part"
   ]
  },
  {
   "cell_type": "code",
   "execution_count": 96,
   "metadata": {},
   "outputs": [
    {
     "data": {
      "image/png": "[encoded data removed]",
      "text/plain": [
       "<Figure size 432x288 with 1 Axes>"
      ]
     },
     "metadata": {
      "needs_background": "light"
     },
     "output_type": "display_data"
    },
    {
     "data": {
      "image/png": "[encoded data removed]",
      "text/plain": [
       "<Figure size 432x288 with 1 Axes>"
      ]
     },
     "metadata": {
      "needs_background": "light"
     },
     "output_type": "display_data"
    }
   ],
   "source": [
    "validate_corr = np.abs(validate.corr())\n",
    "X_validate = validate.drop(60, axis=1).to_numpy()\n",
    "y_validate = validate[60].to_numpy()\n",
    "fig = plt.figure()\n",
    "ax = fig.add_axes([0,0,1,1])\n",
    "ax.bar(validate.columns.to_list()[:-1],validate_corr[60].to_list()[:-1])\n",
    "plt.xlabel(\"features name\")\n",
    "plt.ylabel(\"correlation coefficinet value\")\n",
    "plt.title(\"correlation between features and target for validation dataset\")\n",
    "plt.show()\n",
    "plt.hist(validate_corr[60].to_list()[:-1], bins = 8)\n",
    "plt.xlabel(\"features bins\")\n",
    "plt.ylabel(\"frequency\")\n",
    "plt.title(\"histogram of correlation between features and target for validation dataset\")\n",
    "plt.show()"
   ]
  },
  {
   "cell_type": "markdown",
   "metadata": {},
   "source": [
    "# test dataset part"
   ]
  },
  {
   "cell_type": "code",
   "execution_count": 99,
   "metadata": {},
   "outputs": [
    {
     "data": {
      "image/png": "[encoded data removed]",
      "text/plain": [
       "<Figure size 432x288 with 1 Axes>"
      ]
     },
     "metadata": {
      "needs_background": "light"
     },
     "output_type": "display_data"
    },
    {
     "data": {
      "image/png": "[encoded data removed]",
      "text/plain": [
       "<Figure size 432x288 with 1 Axes>"
      ]
     },
     "metadata": {
      "needs_background": "light"
     },
     "output_type": "display_data"
    }
   ],
   "source": [
    "test_corr = np.abs(test.corr())\n",
    "X_test = test.drop(60, axis=1).to_numpy()\n",
    "y_test = test[60].to_numpy()\n",
    "fig = plt.figure()\n",
    "ax = fig.add_axes([0,0,1,1])\n",
    "ax.bar(test.columns.to_list()[:-1],test_corr[60].to_list()[:-1])\n",
    "plt.xlabel(\"features name\")\n",
    "plt.ylabel(\"correlation coefficinet value\")\n",
    "plt.title(\"correlation between features and target for test dataset\")\n",
    "plt.show()\n",
    "plt.hist(test_corr[60].to_list()[:-1], bins = 8)\n",
    "plt.xlabel(\"features bins\")\n",
    "plt.ylabel(\"frequency\")\n",
    "plt.title(\"histogram of correlation between features and target for test dataset\")\n",
    "plt.show()"
   ]
  },
  {
   "cell_type": "code",
   "execution_count": 102,
   "metadata": {},
   "outputs": [
    {
     "name": "stderr",
     "output_type": "stream",
     "text": [
      "C:\\Users\\Lenovo\\Anaconda3\\lib\\site-packages\\sklearn\\svm\\base.py:193: FutureWarning: The default value of gamma will change from 'auto' to 'scale' in version 0.22 to account better for unscaled features. Set gamma explicitly to 'auto' or 'scale' to avoid this warning.\n",
      "  \"avoid this warning.\", FutureWarning)\n"
     ]
    },
    {
     "data": {
      "text/plain": [
       "SVC(C=1.0, cache_size=200, class_weight=None, coef0=0.0,\n",
       "    decision_function_shape='ovr', degree=3, gamma='auto_deprecated',\n",
       "    kernel='rbf', max_iter=-1, probability=False, random_state=None,\n",
       "    shrinking=True, tol=0.001, verbose=False)"
      ]
     },
     "execution_count": 102,
     "metadata": {},
     "output_type": "execute_result"
    }
   ],
   "source": [
    "from sklearn.svm import SVC\n",
    "svc=SVC() \n",
    "svc.fit(X_train, y_train)"
   ]
  },
  {
   "cell_type": "code",
   "execution_count": 105,
   "metadata": {},
   "outputs": [
    {
     "name": "stdout",
     "output_type": "stream",
     "text": [
      "0.5238095238095238\n"
     ]
    }
   ],
   "source": [
    "from sklearn.metrics import confusion_matrix\n",
    "prediction = svc.predict(X_validate)\n",
    "cm = confusion_matrix(y_validate, prediction)\n",
    "summ = 0\n",
    "for i in range(cm.shape[0]):\n",
    "    summ += cm[i][i]\n",
    "    \n",
    "accuracy = summ/X_validate.shape[0]\n",
    "print(accuracy)"
   ]
  },
  {
   "cell_type": "code",
   "execution_count": 159,
   "metadata": {},
   "outputs": [],
   "source": [
    "train_corr = np.abs(train.corr())"
   ]
  },
  {
   "cell_type": "code",
   "execution_count": 160,
   "metadata": {},
   "outputs": [
    {
     "data": {
      "text/plain": [
       "pandas.core.series.Series"
      ]
     },
     "execution_count": 160,
     "metadata": {},
     "output_type": "execute_result"
    }
   ],
   "source": [
    "type(train_corr[60])"
   ]
  },
  {
   "cell_type": "code",
   "execution_count": 168,
   "metadata": {},
   "outputs": [],
   "source": [
    "from collections import OrderedDict, defaultdict\n",
    "my_dict = train_corr[60].to_dict(OrderedDict)"
   ]
  },
  {
   "cell_type": "code",
   "execution_count": 169,
   "metadata": {},
   "outputs": [],
   "source": [
    "my_dict.values()\n",
    "dd = {k: v for k, v in sorted(my_dict.items(), key=lambda item: item[1])}\n",
    "del dd[60]"
   ]
  },
  {
   "cell_type": "code",
   "execution_count": 170,
   "metadata": {},
   "outputs": [
    {
     "data": {
      "text/plain": [
       "{38: 0.003247402830590286,\n",
       " 40: 0.0161065615498158,\n",
       " 28: 0.020023731423252564,\n",
       " 29: 0.024284646456687868,\n",
       " 16: 0.02458812182062455,\n",
       " 39: 0.02556779968346105,\n",
       " 56: 0.0355048021586078,\n",
       " 27: 0.051852631954240516,\n",
       " 26: 0.06333045526762106,\n",
       " 24: 0.06474166632964352,\n",
       " 25: 0.06644760649959688,\n",
       " 37: 0.06754090643254362,\n",
       " 59: 0.06817431062283726,\n",
       " 54: 0.10002201448718988,\n",
       " 52: 0.10168892796579812,\n",
       " 41: 0.10692760946046269,\n",
       " 58: 0.11358935608279322,\n",
       " 14: 0.11975732518498335,\n",
       " 5: 0.12530627506943828,\n",
       " 31: 0.12726887048573393,\n",
       " 32: 0.1276930150796559,\n",
       " 30: 0.13915417308318082,\n",
       " 18: 0.14861432904140046,\n",
       " 23: 0.15240660621418223,\n",
       " 53: 0.1607037749409936,\n",
       " 6: 0.16152824171404176,\n",
       " 57: 0.17350883451587065,\n",
       " 33: 0.1823711347526667,\n",
       " 55: 0.18422811502738237,\n",
       " 49: 0.1867258062441016,\n",
       " 36: 0.190728829109159,\n",
       " 7: 0.19273709989463372,\n",
       " 42: 0.19864997561662873,\n",
       " 22: 0.20180033725863022,\n",
       " 4: 0.21255943499347318,\n",
       " 2: 0.2139936616583844,\n",
       " 19: 0.2211747531399891,\n",
       " 13: 0.2223463070108562,\n",
       " 3: 0.23387935459486045,\n",
       " 21: 0.2340509320686197,\n",
       " 43: 0.2416945547985988,\n",
       " 34: 0.24448149758992763,\n",
       " 0: 0.26090104753671167,\n",
       " 1: 0.2622729900955232,\n",
       " 35: 0.262896626197128,\n",
       " 51: 0.2742618866369518,\n",
       " 8: 0.3126589105706094,\n",
       " 45: 0.31550869386924646,\n",
       " 9: 0.320064888217486,\n",
       " 12: 0.3335692150413373,\n",
       " 44: 0.33469087500718203,\n",
       " 11: 0.3444642289848397,\n",
       " 46: 0.3539264856476587,\n",
       " 50: 0.3584430933156191,\n",
       " 10: 0.395197382220837,\n",
       " 47: 0.40287012586745014,\n",
       " 48: 0.40757166258355504}"
      ]
     },
     "execution_count": 170,
     "metadata": {},
     "output_type": "execute_result"
    }
   ],
   "source": [
    "dd"
   ]
  },
  {
   "cell_type": "code",
   "execution_count": 197,
   "metadata": {},
   "outputs": [],
   "source": [
    "deleted_feature = []\n",
    "X_train = train.drop(60, axis=1).to_numpy()\n",
    "y_train = train[60].to_numpy()\n",
    "X_validate = validate.drop(60, axis=1).to_numpy()\n",
    "y_validate = validate[60].to_numpy()"
   ]
  },
  {
   "cell_type": "code",
   "execution_count": 189,
   "metadata": {
    "scrolled": true
   },
   "outputs": [
    {
     "data": {
      "text/plain": [
       "{38: 0.003247402830590286,\n",
       " 40: 0.0161065615498158,\n",
       " 28: 0.020023731423252564,\n",
       " 29: 0.024284646456687868,\n",
       " 16: 0.02458812182062455,\n",
       " 39: 0.02556779968346105,\n",
       " 56: 0.0355048021586078,\n",
       " 27: 0.051852631954240516,\n",
       " 26: 0.06333045526762106,\n",
       " 24: 0.06474166632964352,\n",
       " 25: 0.06644760649959688,\n",
       " 37: 0.06754090643254362,\n",
       " 59: 0.06817431062283726,\n",
       " 54: 0.10002201448718988,\n",
       " 52: 0.10168892796579812,\n",
       " 41: 0.10692760946046269,\n",
       " 58: 0.11358935608279322,\n",
       " 14: 0.11975732518498335,\n",
       " 5: 0.12530627506943828,\n",
       " 31: 0.12726887048573393,\n",
       " 32: 0.1276930150796559,\n",
       " 30: 0.13915417308318082,\n",
       " 18: 0.14861432904140046,\n",
       " 23: 0.15240660621418223,\n",
       " 53: 0.1607037749409936,\n",
       " 6: 0.16152824171404176,\n",
       " 57: 0.17350883451587065,\n",
       " 33: 0.1823711347526667,\n",
       " 55: 0.18422811502738237,\n",
       " 49: 0.1867258062441016,\n",
       " 36: 0.190728829109159,\n",
       " 7: 0.19273709989463372,\n",
       " 42: 0.19864997561662873,\n",
       " 22: 0.20180033725863022,\n",
       " 4: 0.21255943499347318,\n",
       " 2: 0.2139936616583844,\n",
       " 19: 0.2211747531399891,\n",
       " 13: 0.2223463070108562,\n",
       " 3: 0.23387935459486045,\n",
       " 21: 0.2340509320686197,\n",
       " 43: 0.2416945547985988,\n",
       " 34: 0.24448149758992763,\n",
       " 0: 0.26090104753671167,\n",
       " 1: 0.2622729900955232,\n",
       " 35: 0.262896626197128,\n",
       " 51: 0.2742618866369518,\n",
       " 8: 0.3126589105706094,\n",
       " 45: 0.31550869386924646,\n",
       " 9: 0.320064888217486,\n",
       " 12: 0.3335692150413373,\n",
       " 44: 0.33469087500718203,\n",
       " 11: 0.3444642289848397,\n",
       " 46: 0.3539264856476587,\n",
       " 50: 0.3584430933156191,\n",
       " 10: 0.395197382220837,\n",
       " 47: 0.40287012586745014,\n",
       " 48: 0.40757166258355504}"
      ]
     },
     "execution_count": 189,
     "metadata": {},
     "output_type": "execute_result"
    }
   ],
   "source": [
    "dd"
   ]
  },
  {
   "cell_type": "code",
   "execution_count": 198,
   "metadata": {},
   "outputs": [
    {
     "name": "stdout",
     "output_type": "stream",
     "text": [
      "(145, 57)\n"
     ]
    }
   ],
   "source": [
    "print(X_train.shape)"
   ]
  },
  {
   "cell_type": "code",
   "execution_count": 201,
   "metadata": {},
   "outputs": [
    {
     "name": "stdout",
     "output_type": "stream",
     "text": [
      "(145, 49)\n"
     ]
    }
   ],
   "source": [
    "cols = [28,29,40,38,60,48,47,50,12]\n",
    "X_train = train.drop(cols, axis=1).to_numpy()\n",
    "X_validate = validate.drop(cols, axis=1).to_numpy()\n",
    "\n",
    "print(X_train.shape)"
   ]
  },
  {
   "cell_type": "code",
   "execution_count": 203,
   "metadata": {},
   "outputs": [
    {
     "name": "stdout",
     "output_type": "stream",
     "text": [
      "0.7142857142857143\n"
     ]
    },
    {
     "name": "stderr",
     "output_type": "stream",
     "text": [
      "C:\\Users\\Lenovo\\Anaconda3\\lib\\site-packages\\sklearn\\svm\\base.py:193: FutureWarning: The default value of gamma will change from 'auto' to 'scale' in version 0.22 to account better for unscaled features. Set gamma explicitly to 'auto' or 'scale' to avoid this warning.\n",
      "  \"avoid this warning.\", FutureWarning)\n"
     ]
    }
   ],
   "source": [
    "svc=SVC() \n",
    "svc.fit(X_train, y_train)\n",
    "\n",
    "prediction = svc.predict(X_validate)\n",
    "cm = confusion_matrix(y_validate, prediction)\n",
    "summ = 0\n",
    "for i in range(cm.shape[0]):\n",
    "    summ += cm[i][i]\n",
    "\n",
    "accuracy = summ/X_validate.shape[0]\n",
    "print(accuracy)"
   ]
  },
  {
   "cell_type": "code",
   "execution_count": 210,
   "metadata": {},
   "outputs": [
    {
     "data": {
      "text/plain": [
       "{38: 0.003247402830590286,\n",
       " 40: 0.0161065615498158,\n",
       " 28: 0.020023731423252564,\n",
       " 29: 0.024284646456687868,\n",
       " 16: 0.02458812182062455,\n",
       " 39: 0.02556779968346105,\n",
       " 56: 0.0355048021586078,\n",
       " 27: 0.051852631954240516,\n",
       " 26: 0.06333045526762106,\n",
       " 24: 0.06474166632964352,\n",
       " 25: 0.06644760649959688,\n",
       " 37: 0.06754090643254362,\n",
       " 59: 0.06817431062283726,\n",
       " 54: 0.10002201448718988,\n",
       " 52: 0.10168892796579812,\n",
       " 41: 0.10692760946046269,\n",
       " 58: 0.11358935608279322,\n",
       " 14: 0.11975732518498335,\n",
       " 5: 0.12530627506943828,\n",
       " 31: 0.12726887048573393,\n",
       " 32: 0.1276930150796559,\n",
       " 30: 0.13915417308318082,\n",
       " 18: 0.14861432904140046,\n",
       " 23: 0.15240660621418223,\n",
       " 53: 0.1607037749409936,\n",
       " 6: 0.16152824171404176,\n",
       " 57: 0.17350883451587065,\n",
       " 33: 0.1823711347526667,\n",
       " 55: 0.18422811502738237,\n",
       " 49: 0.1867258062441016,\n",
       " 36: 0.190728829109159,\n",
       " 7: 0.19273709989463372,\n",
       " 42: 0.19864997561662873,\n",
       " 22: 0.20180033725863022,\n",
       " 4: 0.21255943499347318,\n",
       " 2: 0.2139936616583844,\n",
       " 19: 0.2211747531399891,\n",
       " 13: 0.2223463070108562,\n",
       " 3: 0.23387935459486045,\n",
       " 21: 0.2340509320686197,\n",
       " 43: 0.2416945547985988,\n",
       " 34: 0.24448149758992763,\n",
       " 0: 0.26090104753671167,\n",
       " 1: 0.2622729900955232,\n",
       " 35: 0.262896626197128,\n",
       " 51: 0.2742618866369518,\n",
       " 8: 0.3126589105706094,\n",
       " 45: 0.31550869386924646,\n",
       " 9: 0.320064888217486,\n",
       " 12: 0.3335692150413373,\n",
       " 44: 0.33469087500718203,\n",
       " 11: 0.3444642289848397,\n",
       " 46: 0.3539264856476587,\n",
       " 50: 0.3584430933156191,\n",
       " 10: 0.395197382220837,\n",
       " 47: 0.40287012586745014,\n",
       " 48: 0.40757166258355504}"
      ]
     },
     "execution_count": 210,
     "metadata": {},
     "output_type": "execute_result"
    }
   ],
   "source": [
    "dd"
   ]
  },
  {
   "cell_type": "code",
   "execution_count": 209,
   "metadata": {},
   "outputs": [
    {
     "name": "stderr",
     "output_type": "stream",
     "text": [
      "C:\\Users\\Lenovo\\Anaconda3\\lib\\site-packages\\sklearn\\linear_model\\logistic.py:432: FutureWarning: Default solver will be changed to 'lbfgs' in 0.22. Specify a solver to silence this warning.\n",
      "  FutureWarning)\n"
     ]
    },
    {
     "name": "stdout",
     "output_type": "stream",
     "text": [
      "0.9047619047619048\n",
      "0.9047619047619048\n",
      "0.9047619047619048\n",
      "0.9047619047619048\n",
      "0.9047619047619048\n",
      "0.9047619047619048\n",
      "0.9047619047619048\n",
      "0.9047619047619048\n",
      "0.9047619047619048\n",
      "0.9523809523809523\n",
      "0.9047619047619048\n",
      "0.9047619047619048\n",
      "0.9047619047619048\n",
      "0.9047619047619048\n",
      "0.9047619047619048\n",
      "0.9047619047619048\n",
      "0.9047619047619048\n",
      "0.9047619047619048\n",
      "0.9047619047619048\n",
      "0.9047619047619048\n",
      "0.9047619047619048\n",
      "0.8571428571428571\n",
      "0.8571428571428571\n",
      "0.8571428571428571\n",
      "0.8571428571428571\n",
      "0.8571428571428571\n",
      "0.8571428571428571\n",
      "0.9047619047619048\n",
      "0.9047619047619048\n",
      "0.9047619047619048\n",
      "0.8571428571428571\n",
      "0.8571428571428571\n",
      "0.8571428571428571\n",
      "0.8571428571428571\n",
      "0.8571428571428571\n",
      "0.8571428571428571\n",
      "0.8571428571428571\n",
      "0.8571428571428571\n",
      "0.8571428571428571\n",
      "1.0\n",
      "1.0\n",
      "0.9523809523809523\n",
      "0.9523809523809523\n",
      "0.9523809523809523\n",
      "0.8571428571428571\n",
      "0.8571428571428571\n",
      "0.8571428571428571\n",
      "0.8571428571428571\n",
      "0.9047619047619048\n",
      "0.9523809523809523\n",
      "0.9523809523809523\n",
      "1.0\n",
      "0.9523809523809523\n",
      "0.9523809523809523\n",
      "0.8095238095238095\n",
      "0.6666666666666666\n"
     ]
    },
    {
     "name": "stderr",
     "output_type": "stream",
     "text": [
      "C:\\Users\\Lenovo\\Anaconda3\\lib\\site-packages\\sklearn\\linear_model\\logistic.py:432: FutureWarning: Default solver will be changed to 'lbfgs' in 0.22. Specify a solver to silence this warning.\n",
      "  FutureWarning)\n",
      "C:\\Users\\Lenovo\\Anaconda3\\lib\\site-packages\\sklearn\\linear_model\\logistic.py:432: FutureWarning: Default solver will be changed to 'lbfgs' in 0.22. Specify a solver to silence this warning.\n",
      "  FutureWarning)\n",
      "C:\\Users\\Lenovo\\Anaconda3\\lib\\site-packages\\sklearn\\linear_model\\logistic.py:432: FutureWarning: Default solver will be changed to 'lbfgs' in 0.22. Specify a solver to silence this warning.\n",
      "  FutureWarning)\n",
      "C:\\Users\\Lenovo\\Anaconda3\\lib\\site-packages\\sklearn\\linear_model\\logistic.py:432: FutureWarning: Default solver will be changed to 'lbfgs' in 0.22. Specify a solver to silence this warning.\n",
      "  FutureWarning)\n",
      "C:\\Users\\Lenovo\\Anaconda3\\lib\\site-packages\\sklearn\\linear_model\\logistic.py:432: FutureWarning: Default solver will be changed to 'lbfgs' in 0.22. Specify a solver to silence this warning.\n",
      "  FutureWarning)\n",
      "C:\\Users\\Lenovo\\Anaconda3\\lib\\site-packages\\sklearn\\linear_model\\logistic.py:432: FutureWarning: Default solver will be changed to 'lbfgs' in 0.22. Specify a solver to silence this warning.\n",
      "  FutureWarning)\n",
      "C:\\Users\\Lenovo\\Anaconda3\\lib\\site-packages\\sklearn\\linear_model\\logistic.py:432: FutureWarning: Default solver will be changed to 'lbfgs' in 0.22. Specify a solver to silence this warning.\n",
      "  FutureWarning)\n",
      "C:\\Users\\Lenovo\\Anaconda3\\lib\\site-packages\\sklearn\\linear_model\\logistic.py:432: FutureWarning: Default solver will be changed to 'lbfgs' in 0.22. Specify a solver to silence this warning.\n",
      "  FutureWarning)\n",
      "C:\\Users\\Lenovo\\Anaconda3\\lib\\site-packages\\sklearn\\linear_model\\logistic.py:432: FutureWarning: Default solver will be changed to 'lbfgs' in 0.22. Specify a solver to silence this warning.\n",
      "  FutureWarning)\n",
      "C:\\Users\\Lenovo\\Anaconda3\\lib\\site-packages\\sklearn\\linear_model\\logistic.py:432: FutureWarning: Default solver will be changed to 'lbfgs' in 0.22. Specify a solver to silence this warning.\n",
      "  FutureWarning)\n",
      "C:\\Users\\Lenovo\\Anaconda3\\lib\\site-packages\\sklearn\\linear_model\\logistic.py:432: FutureWarning: Default solver will be changed to 'lbfgs' in 0.22. Specify a solver to silence this warning.\n",
      "  FutureWarning)\n",
      "C:\\Users\\Lenovo\\Anaconda3\\lib\\site-packages\\sklearn\\linear_model\\logistic.py:432: FutureWarning: Default solver will be changed to 'lbfgs' in 0.22. Specify a solver to silence this warning.\n",
      "  FutureWarning)\n",
      "C:\\Users\\Lenovo\\Anaconda3\\lib\\site-packages\\sklearn\\linear_model\\logistic.py:432: FutureWarning: Default solver will be changed to 'lbfgs' in 0.22. Specify a solver to silence this warning.\n",
      "  FutureWarning)\n",
      "C:\\Users\\Lenovo\\Anaconda3\\lib\\site-packages\\sklearn\\linear_model\\logistic.py:432: FutureWarning: Default solver will be changed to 'lbfgs' in 0.22. Specify a solver to silence this warning.\n",
      "  FutureWarning)\n",
      "C:\\Users\\Lenovo\\Anaconda3\\lib\\site-packages\\sklearn\\linear_model\\logistic.py:432: FutureWarning: Default solver will be changed to 'lbfgs' in 0.22. Specify a solver to silence this warning.\n",
      "  FutureWarning)\n",
      "C:\\Users\\Lenovo\\Anaconda3\\lib\\site-packages\\sklearn\\linear_model\\logistic.py:432: FutureWarning: Default solver will be changed to 'lbfgs' in 0.22. Specify a solver to silence this warning.\n",
      "  FutureWarning)\n",
      "C:\\Users\\Lenovo\\Anaconda3\\lib\\site-packages\\sklearn\\linear_model\\logistic.py:432: FutureWarning: Default solver will be changed to 'lbfgs' in 0.22. Specify a solver to silence this warning.\n",
      "  FutureWarning)\n",
      "C:\\Users\\Lenovo\\Anaconda3\\lib\\site-packages\\sklearn\\linear_model\\logistic.py:432: FutureWarning: Default solver will be changed to 'lbfgs' in 0.22. Specify a solver to silence this warning.\n",
      "  FutureWarning)\n",
      "C:\\Users\\Lenovo\\Anaconda3\\lib\\site-packages\\sklearn\\linear_model\\logistic.py:432: FutureWarning: Default solver will be changed to 'lbfgs' in 0.22. Specify a solver to silence this warning.\n",
      "  FutureWarning)\n",
      "C:\\Users\\Lenovo\\Anaconda3\\lib\\site-packages\\sklearn\\linear_model\\logistic.py:432: FutureWarning: Default solver will be changed to 'lbfgs' in 0.22. Specify a solver to silence this warning.\n",
      "  FutureWarning)\n",
      "C:\\Users\\Lenovo\\Anaconda3\\lib\\site-packages\\sklearn\\linear_model\\logistic.py:432: FutureWarning: Default solver will be changed to 'lbfgs' in 0.22. Specify a solver to silence this warning.\n",
      "  FutureWarning)\n",
      "C:\\Users\\Lenovo\\Anaconda3\\lib\\site-packages\\sklearn\\linear_model\\logistic.py:432: FutureWarning: Default solver will be changed to 'lbfgs' in 0.22. Specify a solver to silence this warning.\n",
      "  FutureWarning)\n",
      "C:\\Users\\Lenovo\\Anaconda3\\lib\\site-packages\\sklearn\\linear_model\\logistic.py:432: FutureWarning: Default solver will be changed to 'lbfgs' in 0.22. Specify a solver to silence this warning.\n",
      "  FutureWarning)\n",
      "C:\\Users\\Lenovo\\Anaconda3\\lib\\site-packages\\sklearn\\linear_model\\logistic.py:432: FutureWarning: Default solver will be changed to 'lbfgs' in 0.22. Specify a solver to silence this warning.\n",
      "  FutureWarning)\n",
      "C:\\Users\\Lenovo\\Anaconda3\\lib\\site-packages\\sklearn\\linear_model\\logistic.py:432: FutureWarning: Default solver will be changed to 'lbfgs' in 0.22. Specify a solver to silence this warning.\n",
      "  FutureWarning)\n",
      "C:\\Users\\Lenovo\\Anaconda3\\lib\\site-packages\\sklearn\\linear_model\\logistic.py:432: FutureWarning: Default solver will be changed to 'lbfgs' in 0.22. Specify a solver to silence this warning.\n",
      "  FutureWarning)\n",
      "C:\\Users\\Lenovo\\Anaconda3\\lib\\site-packages\\sklearn\\linear_model\\logistic.py:432: FutureWarning: Default solver will be changed to 'lbfgs' in 0.22. Specify a solver to silence this warning.\n",
      "  FutureWarning)\n",
      "C:\\Users\\Lenovo\\Anaconda3\\lib\\site-packages\\sklearn\\linear_model\\logistic.py:432: FutureWarning: Default solver will be changed to 'lbfgs' in 0.22. Specify a solver to silence this warning.\n",
      "  FutureWarning)\n",
      "C:\\Users\\Lenovo\\Anaconda3\\lib\\site-packages\\sklearn\\linear_model\\logistic.py:432: FutureWarning: Default solver will be changed to 'lbfgs' in 0.22. Specify a solver to silence this warning.\n",
      "  FutureWarning)\n",
      "C:\\Users\\Lenovo\\Anaconda3\\lib\\site-packages\\sklearn\\linear_model\\logistic.py:432: FutureWarning: Default solver will be changed to 'lbfgs' in 0.22. Specify a solver to silence this warning.\n",
      "  FutureWarning)\n",
      "C:\\Users\\Lenovo\\Anaconda3\\lib\\site-packages\\sklearn\\linear_model\\logistic.py:432: FutureWarning: Default solver will be changed to 'lbfgs' in 0.22. Specify a solver to silence this warning.\n",
      "  FutureWarning)\n",
      "C:\\Users\\Lenovo\\Anaconda3\\lib\\site-packages\\sklearn\\linear_model\\logistic.py:432: FutureWarning: Default solver will be changed to 'lbfgs' in 0.22. Specify a solver to silence this warning.\n",
      "  FutureWarning)\n",
      "C:\\Users\\Lenovo\\Anaconda3\\lib\\site-packages\\sklearn\\linear_model\\logistic.py:432: FutureWarning: Default solver will be changed to 'lbfgs' in 0.22. Specify a solver to silence this warning.\n",
      "  FutureWarning)\n",
      "C:\\Users\\Lenovo\\Anaconda3\\lib\\site-packages\\sklearn\\linear_model\\logistic.py:432: FutureWarning: Default solver will be changed to 'lbfgs' in 0.22. Specify a solver to silence this warning.\n",
      "  FutureWarning)\n",
      "C:\\Users\\Lenovo\\Anaconda3\\lib\\site-packages\\sklearn\\linear_model\\logistic.py:432: FutureWarning: Default solver will be changed to 'lbfgs' in 0.22. Specify a solver to silence this warning.\n",
      "  FutureWarning)\n",
      "C:\\Users\\Lenovo\\Anaconda3\\lib\\site-packages\\sklearn\\linear_model\\logistic.py:432: FutureWarning: Default solver will be changed to 'lbfgs' in 0.22. Specify a solver to silence this warning.\n",
      "  FutureWarning)\n",
      "C:\\Users\\Lenovo\\Anaconda3\\lib\\site-packages\\sklearn\\linear_model\\logistic.py:432: FutureWarning: Default solver will be changed to 'lbfgs' in 0.22. Specify a solver to silence this warning.\n",
      "  FutureWarning)\n",
      "C:\\Users\\Lenovo\\Anaconda3\\lib\\site-packages\\sklearn\\linear_model\\logistic.py:432: FutureWarning: Default solver will be changed to 'lbfgs' in 0.22. Specify a solver to silence this warning.\n",
      "  FutureWarning)\n",
      "C:\\Users\\Lenovo\\Anaconda3\\lib\\site-packages\\sklearn\\linear_model\\logistic.py:432: FutureWarning: Default solver will be changed to 'lbfgs' in 0.22. Specify a solver to silence this warning.\n",
      "  FutureWarning)\n",
      "C:\\Users\\Lenovo\\Anaconda3\\lib\\site-packages\\sklearn\\linear_model\\logistic.py:432: FutureWarning: Default solver will be changed to 'lbfgs' in 0.22. Specify a solver to silence this warning.\n",
      "  FutureWarning)\n",
      "C:\\Users\\Lenovo\\Anaconda3\\lib\\site-packages\\sklearn\\linear_model\\logistic.py:432: FutureWarning: Default solver will be changed to 'lbfgs' in 0.22. Specify a solver to silence this warning.\n",
      "  FutureWarning)\n",
      "C:\\Users\\Lenovo\\Anaconda3\\lib\\site-packages\\sklearn\\linear_model\\logistic.py:432: FutureWarning: Default solver will be changed to 'lbfgs' in 0.22. Specify a solver to silence this warning.\n",
      "  FutureWarning)\n",
      "C:\\Users\\Lenovo\\Anaconda3\\lib\\site-packages\\sklearn\\linear_model\\logistic.py:432: FutureWarning: Default solver will be changed to 'lbfgs' in 0.22. Specify a solver to silence this warning.\n",
      "  FutureWarning)\n",
      "C:\\Users\\Lenovo\\Anaconda3\\lib\\site-packages\\sklearn\\linear_model\\logistic.py:432: FutureWarning: Default solver will be changed to 'lbfgs' in 0.22. Specify a solver to silence this warning.\n",
      "  FutureWarning)\n",
      "C:\\Users\\Lenovo\\Anaconda3\\lib\\site-packages\\sklearn\\linear_model\\logistic.py:432: FutureWarning: Default solver will be changed to 'lbfgs' in 0.22. Specify a solver to silence this warning.\n",
      "  FutureWarning)\n",
      "C:\\Users\\Lenovo\\Anaconda3\\lib\\site-packages\\sklearn\\linear_model\\logistic.py:432: FutureWarning: Default solver will be changed to 'lbfgs' in 0.22. Specify a solver to silence this warning.\n",
      "  FutureWarning)\n",
      "C:\\Users\\Lenovo\\Anaconda3\\lib\\site-packages\\sklearn\\linear_model\\logistic.py:432: FutureWarning: Default solver will be changed to 'lbfgs' in 0.22. Specify a solver to silence this warning.\n",
      "  FutureWarning)\n",
      "C:\\Users\\Lenovo\\Anaconda3\\lib\\site-packages\\sklearn\\linear_model\\logistic.py:432: FutureWarning: Default solver will be changed to 'lbfgs' in 0.22. Specify a solver to silence this warning.\n",
      "  FutureWarning)\n",
      "C:\\Users\\Lenovo\\Anaconda3\\lib\\site-packages\\sklearn\\linear_model\\logistic.py:432: FutureWarning: Default solver will be changed to 'lbfgs' in 0.22. Specify a solver to silence this warning.\n",
      "  FutureWarning)\n",
      "C:\\Users\\Lenovo\\Anaconda3\\lib\\site-packages\\sklearn\\linear_model\\logistic.py:432: FutureWarning: Default solver will be changed to 'lbfgs' in 0.22. Specify a solver to silence this warning.\n",
      "  FutureWarning)\n",
      "C:\\Users\\Lenovo\\Anaconda3\\lib\\site-packages\\sklearn\\linear_model\\logistic.py:432: FutureWarning: Default solver will be changed to 'lbfgs' in 0.22. Specify a solver to silence this warning.\n",
      "  FutureWarning)\n",
      "C:\\Users\\Lenovo\\Anaconda3\\lib\\site-packages\\sklearn\\linear_model\\logistic.py:432: FutureWarning: Default solver will be changed to 'lbfgs' in 0.22. Specify a solver to silence this warning.\n",
      "  FutureWarning)\n",
      "C:\\Users\\Lenovo\\Anaconda3\\lib\\site-packages\\sklearn\\linear_model\\logistic.py:432: FutureWarning: Default solver will be changed to 'lbfgs' in 0.22. Specify a solver to silence this warning.\n",
      "  FutureWarning)\n",
      "C:\\Users\\Lenovo\\Anaconda3\\lib\\site-packages\\sklearn\\linear_model\\logistic.py:432: FutureWarning: Default solver will be changed to 'lbfgs' in 0.22. Specify a solver to silence this warning.\n",
      "  FutureWarning)\n",
      "C:\\Users\\Lenovo\\Anaconda3\\lib\\site-packages\\sklearn\\linear_model\\logistic.py:432: FutureWarning: Default solver will be changed to 'lbfgs' in 0.22. Specify a solver to silence this warning.\n",
      "  FutureWarning)\n",
      "C:\\Users\\Lenovo\\Anaconda3\\lib\\site-packages\\sklearn\\linear_model\\logistic.py:432: FutureWarning: Default solver will be changed to 'lbfgs' in 0.22. Specify a solver to silence this warning.\n",
      "  FutureWarning)\n"
     ]
    },
    {
     "ename": "ValueError",
     "evalue": "Found array with 0 feature(s) (shape=(145, 0)) while a minimum of 1 is required.",
     "output_type": "error",
     "traceback": [
      "\u001b[1;31m---------------------------------------------------------------------------\u001b[0m",
      "\u001b[1;31mValueError\u001b[0m                                Traceback (most recent call last)",
      "\u001b[1;32m<ipython-input-209-b2de1b1dc330>\u001b[0m in \u001b[0;36m<module>\u001b[1;34m\u001b[0m\n\u001b[0;32m      6\u001b[0m     \u001b[0mX_train\u001b[0m \u001b[1;33m=\u001b[0m \u001b[0mtrain\u001b[0m\u001b[1;33m.\u001b[0m\u001b[0mdrop\u001b[0m\u001b[1;33m(\u001b[0m\u001b[0mcols\u001b[0m\u001b[1;33m,\u001b[0m \u001b[0maxis\u001b[0m\u001b[1;33m=\u001b[0m\u001b[1;36m1\u001b[0m\u001b[1;33m)\u001b[0m\u001b[1;33m.\u001b[0m\u001b[0mto_numpy\u001b[0m\u001b[1;33m(\u001b[0m\u001b[1;33m)\u001b[0m\u001b[1;33m\u001b[0m\u001b[1;33m\u001b[0m\u001b[0m\n\u001b[0;32m      7\u001b[0m     \u001b[0mX_validate\u001b[0m \u001b[1;33m=\u001b[0m \u001b[0mvalidate\u001b[0m\u001b[1;33m.\u001b[0m\u001b[0mdrop\u001b[0m\u001b[1;33m(\u001b[0m\u001b[0mcols\u001b[0m\u001b[1;33m,\u001b[0m \u001b[0maxis\u001b[0m\u001b[1;33m=\u001b[0m\u001b[1;36m1\u001b[0m\u001b[1;33m)\u001b[0m\u001b[1;33m.\u001b[0m\u001b[0mto_numpy\u001b[0m\u001b[1;33m(\u001b[0m\u001b[1;33m)\u001b[0m\u001b[1;33m\u001b[0m\u001b[1;33m\u001b[0m\u001b[0m\n\u001b[1;32m----> 8\u001b[1;33m     \u001b[0mclf\u001b[0m \u001b[1;33m=\u001b[0m \u001b[0mLogisticRegression\u001b[0m\u001b[1;33m(\u001b[0m\u001b[0mrandom_state\u001b[0m\u001b[1;33m=\u001b[0m\u001b[1;36m0\u001b[0m\u001b[1;33m)\u001b[0m\u001b[1;33m.\u001b[0m\u001b[0mfit\u001b[0m\u001b[1;33m(\u001b[0m\u001b[0mX_train\u001b[0m\u001b[1;33m,\u001b[0m \u001b[0my_train\u001b[0m\u001b[1;33m)\u001b[0m\u001b[1;33m\u001b[0m\u001b[1;33m\u001b[0m\u001b[0m\n\u001b[0m\u001b[0;32m      9\u001b[0m     \u001b[0mprediction\u001b[0m \u001b[1;33m=\u001b[0m \u001b[0mclf\u001b[0m\u001b[1;33m.\u001b[0m\u001b[0mpredict\u001b[0m\u001b[1;33m(\u001b[0m\u001b[0mX_validate\u001b[0m\u001b[1;33m)\u001b[0m\u001b[1;33m\u001b[0m\u001b[1;33m\u001b[0m\u001b[0m\n\u001b[0;32m     10\u001b[0m     \u001b[0mcm\u001b[0m \u001b[1;33m=\u001b[0m \u001b[0mconfusion_matrix\u001b[0m\u001b[1;33m(\u001b[0m\u001b[0my_validate\u001b[0m\u001b[1;33m,\u001b[0m \u001b[0mprediction\u001b[0m\u001b[1;33m)\u001b[0m\u001b[1;33m\u001b[0m\u001b[1;33m\u001b[0m\u001b[0m\n",
      "\u001b[1;32m~\\Anaconda3\\lib\\site-packages\\sklearn\\linear_model\\logistic.py\u001b[0m in \u001b[0;36mfit\u001b[1;34m(self, X, y, sample_weight)\u001b[0m\n\u001b[0;32m   1530\u001b[0m \u001b[1;33m\u001b[0m\u001b[0m\n\u001b[0;32m   1531\u001b[0m         X, y = check_X_y(X, y, accept_sparse='csr', dtype=_dtype, order=\"C\",\n\u001b[1;32m-> 1532\u001b[1;33m                          accept_large_sparse=solver != 'liblinear')\n\u001b[0m\u001b[0;32m   1533\u001b[0m         \u001b[0mcheck_classification_targets\u001b[0m\u001b[1;33m(\u001b[0m\u001b[0my\u001b[0m\u001b[1;33m)\u001b[0m\u001b[1;33m\u001b[0m\u001b[1;33m\u001b[0m\u001b[0m\n\u001b[0;32m   1534\u001b[0m         \u001b[0mself\u001b[0m\u001b[1;33m.\u001b[0m\u001b[0mclasses_\u001b[0m \u001b[1;33m=\u001b[0m \u001b[0mnp\u001b[0m\u001b[1;33m.\u001b[0m\u001b[0munique\u001b[0m\u001b[1;33m(\u001b[0m\u001b[0my\u001b[0m\u001b[1;33m)\u001b[0m\u001b[1;33m\u001b[0m\u001b[1;33m\u001b[0m\u001b[0m\n",
      "\u001b[1;32m~\\Anaconda3\\lib\\site-packages\\sklearn\\utils\\validation.py\u001b[0m in \u001b[0;36mcheck_X_y\u001b[1;34m(X, y, accept_sparse, accept_large_sparse, dtype, order, copy, force_all_finite, ensure_2d, allow_nd, multi_output, ensure_min_samples, ensure_min_features, y_numeric, warn_on_dtype, estimator)\u001b[0m\n\u001b[0;32m    717\u001b[0m                     \u001b[0mensure_min_features\u001b[0m\u001b[1;33m=\u001b[0m\u001b[0mensure_min_features\u001b[0m\u001b[1;33m,\u001b[0m\u001b[1;33m\u001b[0m\u001b[1;33m\u001b[0m\u001b[0m\n\u001b[0;32m    718\u001b[0m                     \u001b[0mwarn_on_dtype\u001b[0m\u001b[1;33m=\u001b[0m\u001b[0mwarn_on_dtype\u001b[0m\u001b[1;33m,\u001b[0m\u001b[1;33m\u001b[0m\u001b[1;33m\u001b[0m\u001b[0m\n\u001b[1;32m--> 719\u001b[1;33m                     estimator=estimator)\n\u001b[0m\u001b[0;32m    720\u001b[0m     \u001b[1;32mif\u001b[0m \u001b[0mmulti_output\u001b[0m\u001b[1;33m:\u001b[0m\u001b[1;33m\u001b[0m\u001b[1;33m\u001b[0m\u001b[0m\n\u001b[0;32m    721\u001b[0m         y = check_array(y, 'csr', force_all_finite=True, ensure_2d=False,\n",
      "\u001b[1;32m~\\Anaconda3\\lib\\site-packages\\sklearn\\utils\\validation.py\u001b[0m in \u001b[0;36mcheck_array\u001b[1;34m(array, accept_sparse, accept_large_sparse, dtype, order, copy, force_all_finite, ensure_2d, allow_nd, ensure_min_samples, ensure_min_features, warn_on_dtype, estimator)\u001b[0m\n\u001b[0;32m    556\u001b[0m                              \u001b[1;34m\" a minimum of %d is required%s.\"\u001b[0m\u001b[1;33m\u001b[0m\u001b[1;33m\u001b[0m\u001b[0m\n\u001b[0;32m    557\u001b[0m                              % (n_features, array.shape, ensure_min_features,\n\u001b[1;32m--> 558\u001b[1;33m                                 context))\n\u001b[0m\u001b[0;32m    559\u001b[0m \u001b[1;33m\u001b[0m\u001b[0m\n\u001b[0;32m    560\u001b[0m     \u001b[1;32mif\u001b[0m \u001b[0mwarn_on_dtype\u001b[0m \u001b[1;32mand\u001b[0m \u001b[0mdtype_orig\u001b[0m \u001b[1;32mis\u001b[0m \u001b[1;32mnot\u001b[0m \u001b[1;32mNone\u001b[0m \u001b[1;32mand\u001b[0m \u001b[0marray\u001b[0m\u001b[1;33m.\u001b[0m\u001b[0mdtype\u001b[0m \u001b[1;33m!=\u001b[0m \u001b[0mdtype_orig\u001b[0m\u001b[1;33m:\u001b[0m\u001b[1;33m\u001b[0m\u001b[1;33m\u001b[0m\u001b[0m\n",
      "\u001b[1;31mValueError\u001b[0m: Found array with 0 feature(s) (shape=(145, 0)) while a minimum of 1 is required."
     ]
    }
   ],
   "source": [
    "cols = [60]\n",
    "from sklearn.linear_model import LogisticRegression\n",
    "for k in dd.keys():\n",
    "    deleted_feature.append(k)\n",
    "    cols.append(k)\n",
    "    X_train = train.drop(cols, axis=1).to_numpy()\n",
    "    X_validate = validate.drop(cols, axis=1).to_numpy()\n",
    "    clf = LogisticRegression(random_state=0).fit(X_train, y_train)\n",
    "    prediction = clf.predict(X_validate)\n",
    "    cm = confusion_matrix(y_validate, prediction)\n",
    "    summ = 0\n",
    "    for i in range(cm.shape[0]):\n",
    "        summ += cm[i][i]\n",
    "    accuracy = summ/X_validate.shape[0]\n",
    "    print(accuracy)"
   ]
  },
  {
   "cell_type": "code",
   "execution_count": 205,
   "metadata": {},
   "outputs": [
    {
     "data": {
      "text/plain": [
       "[38,\n",
       " 40,\n",
       " 28,\n",
       " 29,\n",
       " 16,\n",
       " 39,\n",
       " 56,\n",
       " 27,\n",
       " 26,\n",
       " 24,\n",
       " 25,\n",
       " 37,\n",
       " 59,\n",
       " 54,\n",
       " 52,\n",
       " 41,\n",
       " 58,\n",
       " 14,\n",
       " 5,\n",
       " 31,\n",
       " 32,\n",
       " 30,\n",
       " 18,\n",
       " 23,\n",
       " 53,\n",
       " 6,\n",
       " 57,\n",
       " 33,\n",
       " 55,\n",
       " 49,\n",
       " 36,\n",
       " 7,\n",
       " 42,\n",
       " 22,\n",
       " 4,\n",
       " 2,\n",
       " 19,\n",
       " 13,\n",
       " 3,\n",
       " 21,\n",
       " 43,\n",
       " 34,\n",
       " 0,\n",
       " 1,\n",
       " 35,\n",
       " 51,\n",
       " 8,\n",
       " 45,\n",
       " 9,\n",
       " 12,\n",
       " 44,\n",
       " 11,\n",
       " 46,\n",
       " 50,\n",
       " 10,\n",
       " 47,\n",
       " 48]"
      ]
     },
     "execution_count": 205,
     "metadata": {},
     "output_type": "execute_result"
    }
   ],
   "source": [
    "deleted_feature"
   ]
  },
  {
   "cell_type": "code",
   "execution_count": 207,
   "metadata": {},
   "outputs": [
    {
     "data": {
      "text/plain": [
       "58"
      ]
     },
     "execution_count": 207,
     "metadata": {},
     "output_type": "execute_result"
    }
   ],
   "source": [
    "len(cols)"
   ]
  },
  {
   "cell_type": "code",
   "execution_count": null,
   "metadata": {},
   "outputs": [],
   "source": []
  }
 ],
 "metadata": {
  "kernelspec": {
   "display_name": "Python 3",
   "language": "python",
   "name": "python3"
  },
  "language_info": {
   "codemirror_mode": {
    "name": "ipython",
    "version": 3
   },
   "file_extension": ".py",
   "mimetype": "text/x-python",
   "name": "python",
   "nbconvert_exporter": "python",
   "pygments_lexer": "ipython3",
   "version": "3.7.3"
  }
 },
 "nbformat": 4,
 "nbformat_minor": 2
}
