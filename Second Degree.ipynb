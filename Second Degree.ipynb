{
 "cells": [
  {
   "cell_type": "code",
   "execution_count": 14,
   "metadata": {},
   "outputs": [],
   "source": [
    "import numpy as np\n",
    "import pandas as pd\n",
    "import matplotlib.pyplot as plt\n",
    "from sklearn.preprocessing import PolynomialFeatures"
   ]
  },
  {
   "cell_type": "code",
   "execution_count": 15,
   "metadata": {},
   "outputs": [],
   "source": [
    "data = pd.read_csv('dataset.csv',header = None)\n",
    "data_classes = ['R','M']\n",
    "d = {'R':-1,'M':1}\n",
    "data[60] = data[60].map(d, na_action='ignore')\n",
    "data = data.sample(frac=1)\n",
    "train, validate, test = np.split(data, [int(.7*len(data)), int(.8*len(data))])\n",
    "X_train = train.drop(60, axis=1).to_numpy()\n",
    "y_train = train[60].to_numpy()\n",
    "X_validate = validate.drop(60, axis=1).to_numpy()\n",
    "y_validate = validate[60].to_numpy()\n",
    "X_test = test.drop(60, axis=1).to_numpy()\n",
    "y_test = test[60].to_numpy()\n",
    "\n",
    "poly = PolynomialFeatures(2)\n",
    "X_train = poly.fit_transform(X_train)\n",
    "X_validate = poly.fit_transform(X_validate)\n",
    "X_test = poly.fit_transform(X_test)"
   ]
  },
  {
   "cell_type": "markdown",
   "metadata": {},
   "source": [
    "# perceptron"
   ]
  },
  {
   "cell_type": "code",
   "execution_count": 3,
   "metadata": {},
   "outputs": [],
   "source": [
    "class Perceptrons:\n",
    "    def predict(self, X):\n",
    "        return ((np.dot(self.add_bias(X), self.weights) >= 0)*2)-1\n",
    "    \n",
    "    def singlepredict(self, X):\n",
    "        return ((np.dot(X, self.weights) >= 0) * 2)-1\n",
    "    \n",
    "    def fit(self, X, y,X_val,y_val, itr, lr):\n",
    "        X = self.add_bias(X)\n",
    "        X_val = self.add_bias(X_val)\n",
    "        self.weights = np.zeros(X.shape[1])\n",
    "        errors = []\n",
    "        errors_val = []\n",
    "        weight_list = []\n",
    "        for _ in range(itr): \n",
    "            for i in range(X.shape[0]):\n",
    "                self.weights += lr * np.dot((y[i] - self.singlepredict(X[i,:])), X[i])\n",
    "            mysum_validation = np.abs((y_val - self.predict(X_val[:,1:])))\n",
    "            errors_val.append(np.sum(mysum_validation))\n",
    "            mysum = np.abs((y - self.predict(X[:,1:])))\n",
    "            errors.append(np.sum(mysum)) \n",
    "            weight_list.append(self.weights)\n",
    "        return errors,errors_val,weight_list\n",
    "    \n",
    "    def add_bias(self,X):\n",
    "        return np.insert(X, 0, np.ones(X.shape[0]), axis=1)\n",
    "    "
   ]
  },
  {
   "cell_type": "code",
   "execution_count": 4,
   "metadata": {
    "scrolled": true
   },
   "outputs": [
    {
     "name": "stdout",
     "output_type": "stream",
     "text": [
      "accuracy of second order perceptron is: 0.8571428571428571\n"
     ]
    },
    {
     "data": {
      "text/html": [
       "<div>\n",
       "<style scoped>\n",
       "    .dataframe tbody tr th:only-of-type {\n",
       "        vertical-align: middle;\n",
       "    }\n",
       "\n",
       "    .dataframe tbody tr th {\n",
       "        vertical-align: top;\n",
       "    }\n",
       "\n",
       "    .dataframe thead th {\n",
       "        text-align: right;\n",
       "    }\n",
       "</style>\n",
       "<table border=\"1\" class=\"dataframe\">\n",
       "  <thead>\n",
       "    <tr style=\"text-align: right;\">\n",
       "      <th>predict</th>\n",
       "      <th>-1</th>\n",
       "      <th>1</th>\n",
       "    </tr>\n",
       "    <tr>\n",
       "      <th>actual</th>\n",
       "      <th></th>\n",
       "      <th></th>\n",
       "    </tr>\n",
       "  </thead>\n",
       "  <tbody>\n",
       "    <tr>\n",
       "      <th>-1</th>\n",
       "      <td>18</td>\n",
       "      <td>3</td>\n",
       "    </tr>\n",
       "    <tr>\n",
       "      <th>1</th>\n",
       "      <td>3</td>\n",
       "      <td>18</td>\n",
       "    </tr>\n",
       "  </tbody>\n",
       "</table>\n",
       "</div>"
      ],
      "text/plain": [
       "predict  -1   1\n",
       "actual         \n",
       "-1       18   3\n",
       " 1        3  18"
      ]
     },
     "execution_count": 4,
     "metadata": {},
     "output_type": "execute_result"
    },
    {
     "data": {
      "image/png": "[encoded data removed]",
      "text/plain": [
       "<Figure size 864x576 with 1 Axes>"
      ]
     },
     "metadata": {
      "needs_background": "light"
     },
     "output_type": "display_data"
    }
   ],
   "source": [
    "clf = Perceptrons()\n",
    "error,error_val,weights_list = clf.fit(X_train,y_train,X_validate,y_validate,1000,0.001)\n",
    "y_pred = clf.predict(X_test)\n",
    "\n",
    "\n",
    "fig = plt.figure()\n",
    "fig.set_size_inches(12,8)\n",
    "ax = fig.add_subplot(1,1,1)\n",
    "ax.plot(error,label='error on train')\n",
    "ax.plot(error_val,label='error on validation')\n",
    "ax.legend()\n",
    "ax.set_xlabel('iteration')\n",
    "ax.set_ylabel('number of missclassification')\n",
    "\n",
    "def accuracy(y_true, y_pred):\n",
    "    accuracy = np.sum(y_true == y_pred) / len(y_true)\n",
    "    return accuracy\n",
    "\n",
    "\n",
    "print(\"accuracy of second order perceptron is: \" + str(accuracy(y_test,y_pred)))\n",
    "\n",
    "def confusion_df(grand_truth, predicts):\n",
    "    df = pd.DataFrame({'predict': predicts, 'actual': grand_truth, 'cnt': 1})\n",
    "    return pd.crosstab(df.actual, df.predict)\n",
    "confusion_df(y_test,y_pred)\n",
    "\n",
    "\n"
   ]
  },
  {
   "cell_type": "code",
   "execution_count": 42,
   "metadata": {},
   "outputs": [
    {
     "name": "stdout",
     "output_type": "stream",
     "text": [
      "accuracy of second order perceptron in 30 test is: 0.8198412698412698\n"
     ]
    }
   ],
   "source": [
    "acc_list = []\n",
    "for i in range(30):\n",
    "    data = pd.read_csv('dataset.csv',header = None)\n",
    "    data_classes = ['R','M']\n",
    "    d = {'R':-1,'M':1}\n",
    "    data[60] = data[60].map(d, na_action='ignore')\n",
    "    data = data.sample(frac=1)\n",
    "    train, validate, test = np.split(data, [int(.7*len(data)), int(.8*len(data))])\n",
    "    X_train = train.drop(60, axis=1).to_numpy()\n",
    "    y_train = train[60].to_numpy()\n",
    "    X_validate = validate.drop(60, axis=1).to_numpy()\n",
    "    y_validate = validate[60].to_numpy()\n",
    "    X_test = test.drop(60, axis=1).to_numpy()\n",
    "    y_test = test[60].to_numpy()\n",
    "    poly = PolynomialFeatures(2)\n",
    "    X_train = poly.fit_transform(X_train)\n",
    "    X_validate = poly.fit_transform(X_validate)\n",
    "    X_test = poly.fit_transform(X_test)\n",
    "    clf = Perceptrons()\n",
    "    error,error_val,weights_list = clf.fit(X_train,y_train,X_validate,y_validate,1000,0.001)\n",
    "    y_pred = clf.predict(X_test)\n",
    "    acc_list.append(accuracy(y_test,y_pred))\n",
    "\n",
    "print(\"accuracy of second order perceptron in 30 test is: \" + str(np.mean(acc_list)))"
   ]
  },
  {
   "cell_type": "code",
   "execution_count": 7,
   "metadata": {},
   "outputs": [
    {
     "data": {
      "text/html": [
       "<div>\n",
       "<style scoped>\n",
       "    .dataframe tbody tr th:only-of-type {\n",
       "        vertical-align: middle;\n",
       "    }\n",
       "\n",
       "    .dataframe tbody tr th {\n",
       "        vertical-align: top;\n",
       "    }\n",
       "\n",
       "    .dataframe thead th {\n",
       "        text-align: right;\n",
       "    }\n",
       "</style>\n",
       "<table border=\"1\" class=\"dataframe\">\n",
       "  <thead>\n",
       "    <tr style=\"text-align: right;\">\n",
       "      <th>predict</th>\n",
       "      <th>-1</th>\n",
       "      <th>1</th>\n",
       "    </tr>\n",
       "    <tr>\n",
       "      <th>actual</th>\n",
       "      <th></th>\n",
       "      <th></th>\n",
       "    </tr>\n",
       "  </thead>\n",
       "  <tbody>\n",
       "    <tr>\n",
       "      <th>-1</th>\n",
       "      <td>15</td>\n",
       "      <td>6</td>\n",
       "    </tr>\n",
       "    <tr>\n",
       "      <th>1</th>\n",
       "      <td>3</td>\n",
       "      <td>18</td>\n",
       "    </tr>\n",
       "  </tbody>\n",
       "</table>\n",
       "</div>"
      ],
      "text/plain": [
       "predict  -1   1\n",
       "actual         \n",
       "-1       15   6\n",
       " 1        3  18"
      ]
     },
     "execution_count": 7,
     "metadata": {},
     "output_type": "execute_result"
    }
   ],
   "source": [
    "class Perceptrons:\n",
    "    def predict(self, X):\n",
    "        return ((np.dot(self.add_bias(X), self.weights) >= 0)*2)-1\n",
    "    \n",
    "    def singlepredict(self, X):\n",
    "        return ((np.dot(X, self.weights) >= 0) * 2)-1\n",
    "    \n",
    "    def fit(self, X, y,X_val,y_val, itr, lr):\n",
    "        X = self.add_bias(X)\n",
    "        X_val = self.add_bias(X_val)\n",
    "        self.weights = np.zeros(X.shape[1])\n",
    "        errors = []\n",
    "        errors_val = []\n",
    "        weight_list = []\n",
    "        for _ in range(itr): \n",
    "            for i in range(X.shape[0]):\n",
    "                self.weights += lr * np.dot((y[i] - self.singlepredict(X[i,:])), X[i])\n",
    "            mysum_validation = np.abs((y_val - self.predict(X_val[:,1:])))\n",
    "            errors_val.append(np.sum(mysum_validation))\n",
    "            mysum = np.abs((y - self.predict(X[:,1:])))\n",
    "            errors.append(np.sum(mysum)) \n",
    "            weight_list.append(self.weights)\n",
    "        return errors,errors_val,weight_list\n",
    "    \n",
    "    def add_bias(self,X):\n",
    "        return np.insert(X, 0, np.ones(X.shape[0]), axis=1)\n",
    "    \n",
    "def confusion_df(grand_truth, predicts):\n",
    "    df = pd.DataFrame({'predict': predicts, 'actual': grand_truth, 'cnt': 1})\n",
    "    return pd.crosstab(df.actual, df.predict)\n",
    "\n",
    "\n",
    "train, validate, test = np.split(data, [int(.7*len(data)), int(.8*len(data))])\n",
    "X_train = train.drop(60, axis=1).to_numpy()\n",
    "y_train = train[60].to_numpy()\n",
    "X_validate = validate.drop(60, axis=1).to_numpy()\n",
    "y_validate = validate[60].to_numpy()\n",
    "X_test = test.drop(60, axis=1).to_numpy()\n",
    "y_test = test[60].to_numpy()\n",
    "\n",
    "clf = Perceptrons()\n",
    "error,error_val,weights_list = clf.fit(X_train,y_train,X_validate,y_validate,10000,0.001)\n",
    "y_pred = clf.predict(X_test)\n",
    "\n",
    "confusion_df(y_test,y_pred)"
   ]
  },
  {
   "cell_type": "markdown",
   "metadata": {},
   "source": [
    "# adaline"
   ]
  },
  {
   "cell_type": "code",
   "execution_count": 16,
   "metadata": {},
   "outputs": [],
   "source": [
    "class AdalineGD(object):\n",
    "    def __init__(self, eta = 0.01, n_iter = 50):\n",
    "        self.eta = eta\n",
    "        self.n_iter = n_iter\n",
    "\n",
    "    def fit(self,X, y,X_val,y_val):\n",
    "        self.w_ = np.zeros(1 + X.shape[1])\n",
    "        self.cost_ = []\n",
    "        self.valcost_ = [] \n",
    "        for i in range(self.n_iter):\n",
    "            output = self.net_input(X)\n",
    "            val_output = self.net_input(X_val)\n",
    "            errors = (y - output)\n",
    "            val_errors = (y_val - val_output)\n",
    "            self.w_[1:] += self.eta * X.T.dot(errors)\n",
    "            self.w_[0] += self.eta * errors.sum()\n",
    "            cost = (errors ** 2).sum() / (2.0*X.shape[0])\n",
    "            val_cost = (val_errors ** 2).sum() / (2.0*X_val.shape[0])\n",
    "            self.cost_.append(cost)\n",
    "            self.valcost_.append(val_cost)\n",
    "        return self.cost_,self.valcost_\n",
    "\n",
    "    def net_input(self, X):\n",
    "        \"\"\" Calculate net input \"\"\"\n",
    "        return np.dot(X, self.w_[1:]) + self.w_[0]\n",
    "\n",
    "    def activation(self, X):\n",
    "        \"\"\" Compute linear activation \"\"\"\n",
    "        return self.net_input(X)\n",
    "    \n",
    "    def predict(self, X):\n",
    "        \"\"\" Return class label after unit step \"\"\"\n",
    "        return np.where(self.activation(X) >= 0.0, +1,-1)"
   ]
  },
  {
   "cell_type": "code",
   "execution_count": 33,
   "metadata": {},
   "outputs": [
    {
     "name": "stdout",
     "output_type": "stream",
     "text": [
      "accuracy of second order adaline is: 0.8809523809523809\n"
     ]
    },
    {
     "data": {
      "text/html": [
       "<div>\n",
       "<style scoped>\n",
       "    .dataframe tbody tr th:only-of-type {\n",
       "        vertical-align: middle;\n",
       "    }\n",
       "\n",
       "    .dataframe tbody tr th {\n",
       "        vertical-align: top;\n",
       "    }\n",
       "\n",
       "    .dataframe thead th {\n",
       "        text-align: right;\n",
       "    }\n",
       "</style>\n",
       "<table border=\"1\" class=\"dataframe\">\n",
       "  <thead>\n",
       "    <tr style=\"text-align: right;\">\n",
       "      <th>predict</th>\n",
       "      <th>-1</th>\n",
       "      <th>1</th>\n",
       "    </tr>\n",
       "    <tr>\n",
       "      <th>actual</th>\n",
       "      <th></th>\n",
       "      <th></th>\n",
       "    </tr>\n",
       "  </thead>\n",
       "  <tbody>\n",
       "    <tr>\n",
       "      <th>-1</th>\n",
       "      <td>14</td>\n",
       "      <td>3</td>\n",
       "    </tr>\n",
       "    <tr>\n",
       "      <th>1</th>\n",
       "      <td>2</td>\n",
       "      <td>23</td>\n",
       "    </tr>\n",
       "  </tbody>\n",
       "</table>\n",
       "</div>"
      ],
      "text/plain": [
       "predict  -1   1\n",
       "actual         \n",
       "-1       14   3\n",
       " 1        2  23"
      ]
     },
     "execution_count": 33,
     "metadata": {},
     "output_type": "execute_result"
    },
    {
     "data": {
      "image/png": "[encoded data removed]",
      "text/plain": [
       "<Figure size 864x576 with 1 Axes>"
      ]
     },
     "metadata": {
      "needs_background": "light"
     },
     "output_type": "display_data"
    }
   ],
   "source": [
    "model1 = AdalineGD(n_iter =10000 , eta = 0.00001)\n",
    "train_cost,validation_cost = model1.fit(X_train, y_train,X_validate,y_validate)\n",
    "y_pred =model1.predict(X_test)\n",
    "\n",
    "fig = plt.figure()\n",
    "fig.set_size_inches(12,8)\n",
    "ax = fig.add_subplot(1,1,1)\n",
    "ax.plot(train_cost,label='cost on train')\n",
    "ax.plot(validation_cost,label='cost on validation')\n",
    "ax.legend()\n",
    "ax.set_xlabel('iteration')\n",
    "ax.set_ylabel('MSE')\n",
    "\n",
    "\n",
    "def accuracy(y_true, y_pred):\n",
    "    accuracy = np.sum(y_true == y_pred) / len(y_true)\n",
    "    return accuracy\n",
    "\n",
    "\n",
    "print(\"accuracy of second order adaline is: \" + str(accuracy(y_test,y_pred)))\n",
    "\n",
    "def confusion_df(grand_truth, predicts):\n",
    "    df = pd.DataFrame({'predict': predicts, 'actual': grand_truth, 'cnt': 1})\n",
    "    return pd.crosstab(df.actual, df.predict)\n",
    "\n",
    "confusion_df(y_test,y_pred)\n",
    "\n"
   ]
  },
  {
   "cell_type": "code",
   "execution_count": 43,
   "metadata": {},
   "outputs": [
    {
     "name": "stdout",
     "output_type": "stream",
     "text": [
      "accuracy of second order perceptron in 30 test is: 0.8182539682539682\n"
     ]
    }
   ],
   "source": [
    "acc_list = []\n",
    "for i in range(30):\n",
    "    data = pd.read_csv('dataset.csv',header = None)\n",
    "    data_classes = ['R','M']\n",
    "    d = {'R':-1,'M':1}\n",
    "    data[60] = data[60].map(d, na_action='ignore')\n",
    "    data = data.sample(frac=1)\n",
    "    train, validate, test = np.split(data, [int(.7*len(data)), int(.8*len(data))])\n",
    "    X_train = train.drop(60, axis=1).to_numpy()\n",
    "    y_train = train[60].to_numpy()\n",
    "    X_validate = validate.drop(60, axis=1).to_numpy()\n",
    "    y_validate = validate[60].to_numpy()\n",
    "    X_test = test.drop(60, axis=1).to_numpy()\n",
    "    y_test = test[60].to_numpy()\n",
    "    poly = PolynomialFeatures(2)\n",
    "    X_train = poly.fit_transform(X_train)\n",
    "    X_validate = poly.fit_transform(X_validate)\n",
    "    X_test = poly.fit_transform(X_test)\n",
    "    model1 = AdalineGD(n_iter =10000 , eta = 0.00001)\n",
    "    train_cost,validation_cost = model1.fit(X_train, y_train,X_validate,y_validate)\n",
    "    y_pred =model1.predict(X_test)\n",
    "    acc_list.append(accuracy(y_test,y_pred))\n",
    "\n",
    "print(\"accuracy of second order perceptron in 30 test is: \" + str(np.mean(acc_list)))"
   ]
  },
  {
   "cell_type": "code",
   "execution_count": 17,
   "metadata": {},
   "outputs": [],
   "source": [
    "train, validate, test = np.split(data, [int(.7*len(data)), int(.8*len(data))])\n",
    "X_train = train.drop(60, axis=1).to_numpy()\n",
    "y_train = train[60].to_numpy()\n",
    "X_validate = validate.drop(60, axis=1).to_numpy()\n",
    "y_validate = validate[60].to_numpy()\n",
    "X_test = test.drop(60, axis=1).to_numpy()\n",
    "y_test = test[60].to_numpy()"
   ]
  },
  {
   "cell_type": "code",
   "execution_count": 18,
   "metadata": {},
   "outputs": [],
   "source": [
    "class AdalineGD(object):\n",
    "    def __init__(self, eta = 0.01, n_iter = 50):\n",
    "        self.eta = eta\n",
    "        self.n_iter = n_iter\n",
    "\n",
    "    def fit(self,X, y,X_val,y_val):\n",
    "        self.w_ = np.zeros(1 + X.shape[1])\n",
    "        self.cost_ = []\n",
    "        self.valcost_ = [] \n",
    "        for i in range(self.n_iter):\n",
    "            output = self.net_input(X)\n",
    "            val_output = self.net_input(X_val)\n",
    "            errors = (y - output)\n",
    "            val_errors = (y_val - val_output)\n",
    "            self.w_[1:] += self.eta * X.T.dot(errors)\n",
    "            self.w_[0] += self.eta * errors.sum()\n",
    "            cost = (errors ** 2).sum() / (2.0*X.shape[0])\n",
    "            val_cost = (val_errors ** 2).sum() / (2.0*X_val.shape[0])\n",
    "            self.cost_.append(cost)\n",
    "            self.valcost_.append(val_cost)\n",
    "        return self.cost_,self.valcost_\n",
    "\n",
    "    def net_input(self, X):\n",
    "        \"\"\" Calculate net input \"\"\"\n",
    "        return np.dot(X, self.w_[1:]) + self.w_[0]\n",
    "\n",
    "    def activation(self, X):\n",
    "        \"\"\" Compute linear activation \"\"\"\n",
    "        return self.net_input(X)\n",
    "    \n",
    "    def predict(self, X):\n",
    "        \"\"\" Return class label after unit step \"\"\"\n",
    "        return np.where(self.activation(X) >= 0.0, +1,-1)"
   ]
  },
  {
   "cell_type": "code",
   "execution_count": 19,
   "metadata": {},
   "outputs": [],
   "source": [
    "X_train = train.drop(60, axis=1).to_numpy()\n",
    "y_train = train[60].to_numpy()\n",
    "X_validate = validate.drop(60, axis=1).to_numpy()\n",
    "y_validate = validate[60].to_numpy()\n",
    "model1 = AdalineGD(n_iter =10000 , eta =  0.00001)\n",
    "train_cost,validation_cost = model1.fit(X_train, y_train,X_validate,y_validate)"
   ]
  },
  {
   "cell_type": "code",
   "execution_count": 20,
   "metadata": {},
   "outputs": [
    {
     "data": {
      "text/plain": [
       "Text(0, 0.5, 'MSE')"
      ]
     },
     "execution_count": 20,
     "metadata": {},
     "output_type": "execute_result"
    },
    {
     "data": {
      "image/png": "[encoded data removed]",
      "text/plain": [
       "<Figure size 864x576 with 1 Axes>"
      ]
     },
     "metadata": {
      "needs_background": "light"
     },
     "output_type": "display_data"
    }
   ],
   "source": [
    "fig = plt.figure()\n",
    "fig.set_size_inches(12,8)\n",
    "ax = fig.add_subplot(1,1,1)\n",
    "ax.plot(train_cost,label='cost on train')\n",
    "ax.plot(validation_cost,label='cost on validation')\n",
    "ax.legend()\n",
    "ax.set_xlabel('iteration')\n",
    "ax.set_ylabel('MSE')"
   ]
  },
  {
   "cell_type": "code",
   "execution_count": 22,
   "metadata": {},
   "outputs": [
    {
     "data": {
      "text/html": [
       "<div>\n",
       "<style scoped>\n",
       "    .dataframe tbody tr th:only-of-type {\n",
       "        vertical-align: middle;\n",
       "    }\n",
       "\n",
       "    .dataframe tbody tr th {\n",
       "        vertical-align: top;\n",
       "    }\n",
       "\n",
       "    .dataframe thead th {\n",
       "        text-align: right;\n",
       "    }\n",
       "</style>\n",
       "<table border=\"1\" class=\"dataframe\">\n",
       "  <thead>\n",
       "    <tr style=\"text-align: right;\">\n",
       "      <th>predict</th>\n",
       "      <th>-1</th>\n",
       "      <th>1</th>\n",
       "    </tr>\n",
       "    <tr>\n",
       "      <th>actual</th>\n",
       "      <th></th>\n",
       "      <th></th>\n",
       "    </tr>\n",
       "  </thead>\n",
       "  <tbody>\n",
       "    <tr>\n",
       "      <th>-1</th>\n",
       "      <td>11</td>\n",
       "      <td>10</td>\n",
       "    </tr>\n",
       "    <tr>\n",
       "      <th>1</th>\n",
       "      <td>5</td>\n",
       "      <td>16</td>\n",
       "    </tr>\n",
       "  </tbody>\n",
       "</table>\n",
       "</div>"
      ],
      "text/plain": [
       "predict  -1   1\n",
       "actual         \n",
       "-1       11  10\n",
       " 1        5  16"
      ]
     },
     "execution_count": 22,
     "metadata": {},
     "output_type": "execute_result"
    }
   ],
   "source": [
    "X_test = test.drop(60, axis=1).to_numpy()\n",
    "y_test = test[60].to_numpy()\n",
    "\n",
    "y_pred =model1.predict(X_test)\n",
    "accuracy(y_test,y_pred)\n",
    "confusion_df(y_test,y_pred)"
   ]
  },
  {
   "cell_type": "code",
   "execution_count": null,
   "metadata": {},
   "outputs": [],
   "source": []
  }
 ],
 "metadata": {
  "kernelspec": {
   "display_name": "Python 3",
   "language": "python",
   "name": "python3"
  },
  "language_info": {
   "codemirror_mode": {
    "name": "ipython",
    "version": 3
   },
   "file_extension": ".py",
   "mimetype": "text/x-python",
   "name": "python",
   "nbconvert_exporter": "python",
   "pygments_lexer": "ipython3",
   "version": "3.7.3"
  }
 },
 "nbformat": 4,
 "nbformat_minor": 2
}
